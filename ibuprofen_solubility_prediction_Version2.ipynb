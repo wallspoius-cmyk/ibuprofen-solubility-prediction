{
 "cells": [
  {
   "cell_type": "markdown",
   "metadata": {},
   "source": [
    "# 布洛芬（Ibuprofen）水溶解度预测示例\n",
    "\n",
    "这个 notebook 演示如何从 SMILES（分子结构）出发，使用传统分子指纹（ECFP/Morgan）与随机森林回归器建立一个溶解度（logS, 单位 mol/L 的对数）预测基线模型，并以布洛芬（Ibuprofen）为例做预测与适用域检测。\n",
    "\n",
    "要点：\n",
    "- 使用 RDKit 生成 Morgan/ECFP 指纹\n",
    "- 使用 scikit-learn 的 RandomForestRegressor 做回归\n",
    "- 使用公开的 ESOL (Delaney) 溶解度数据集训练模型（notebook 会自动下载或通过 DeepChem 加载）\n",
    "- 对布洛芬计算预测值并给出与训练集的相似度（Tanimoto）以评估可信度\n",
    "\n",
    "说明：该 notebook 假定你已安装 RDKit（通常通过 conda 安装最可靠）以及常见 Python 包（pandas, numpy, scikit-learn）。在本仓库也提供了 environment.yml，推荐用 conda 环境来运行。"
   ]
  },
  {
   "cell_type": "markdown",
   "metadata": {},
   "source": [
    "## 1. 环境 & 安装建议\n",
    "\n",
    "建议（推荐）使用 conda 创建环境并安装 rdkit：\n",
    "```bash\n",
    "conda create -n mol-ml python=3.8 -y\n",
    "conda activate mol-ml\n",
    "conda install -c conda-forge rdkit pandas scikit-learn numpy matplotlib joblib -y\n",
    "pip install deepchem  # 可选：如果想用 deepchem 的数据加载器\n",
    "```\n",
    "如果你已在支持 RDKit 的环境（如 conda-forge）中，可以直接运行本 notebook。"
   ]
  },
  {
   "cell_type": "code",
   "execution_count": null,
   "metadata": {},
   "outputs": [],
   "source": [
    "# 导入必要包\n",
    "import os\n",
    "import math\n",
    "import numpy as np\n",
    "import pandas as pd\n",
    "from rdkit import Chem\n",
    "from rdkit.Chem import AllChem, Descriptors, rdMolDescriptors, DataStructs\n",
    "from sklearn.ensemble import RandomForestRegressor\n",
    "from sklearn.model_selection import train_test_split, cross_val_score\n",
    "from sklearn.metrics import mean_squared_error, mean_absolute_error, r2_score\n",
    "import matplotlib.pyplot as plt\n",
    "import joblib\n",
    "\n",
    "print('RDKit version:', Chem.__version__)\n"
   ]
  },
  {
   "cell_type": "markdown",
   "metadata": {},
   "source": [
    "## 2. 加载 ESOL（Delaney）数据集\n",
    "Notebook 尝试以下两种方式获取数据：\n",
    "1. 如果安装了 DeepChem，则用 deepchem.molnet.load_delaney；\n",
    "2. 否则尝试从 DeepChem GitHub 仓库的 raw CSV 下载（若下载地址失效，请手动提供 CSV）。\n"
   ]
  },
  {
   "cell_type": "code",
   "execution_count": null,
   "metadata": {},
   "outputs": [],
   "source": [
    "def load_delaney_df():\n",
    "    # 先尝试用 deepchem\n",
    "    try:\n",
    "        import deepchem as dc\n",
    "        print('Using DeepChem loader')\n",
    "        tasks, datasets, transformers = dc.molnet.load_delaney(featurizer=None, split=None)\n",
    "        # deepchem loader returns a DiskDataset; we'll convert to DataFrame\n",
    "        # However, simpler: use raw CSV download fallback if this path is awkward\n",
    "    except Exception as e:\n",
    "        # 下载 CSV（从 deepchem 仓库的 raw 文件）\n",
    "        print('DeepChem not available or failed to import:', e)\n",
    "    \n",
    "    # 尝试从 GitHub raw 直接下载（备选），若失败请手动提供文件\n",
    "    urls = [\n",
    "        'https://raw.githubusercontent.com/deepchem/deepchem/master/datasets/delaney-processed.csv',\n",
    "        'https://raw.githubusercontent.com/deepchem/deepchem/master/examples/datasets/delaney-processed.csv',\n",
    "        'https://raw.githubusercontent.com/deepchem/DeepChem/master/datasets/delaney-processed.csv'\n",
    "    ]\n",
    "    for url in urls:\n",
    "        try:\n",
    "            print('Trying to download from', url)\n",
    "            df = pd.read_csv(url)\n",
    "            print('Downloaded dataset from', url)\n",
    "            return df\n",
    "        except Exception as e:\n",
    "            print('Failed to download from', url, '->', e)\n",
    "    \n",
    "    raise RuntimeError('无法自动获取 Delaney/ESOL 数据集。请手动下载 delaney-processed.csv 并放在 notebook 同目录下，或安装 deepchem。')\n",
    "\n",
    "# 调用加载函数\n",
    "df = load_delaney_df()\n",
    "df.head()\n"
   ]
  },
  {
   "cell_type": "markdown",
   "metadata": {},
   "source": [
    "说明：delaney-processed.csv 通常包含列 ['smiles', 'measured log solubility in mols per litre'] 或者 'logS' 等。我们随后会根据实际列名做适配。"
   ]
  },
  {
   "cell_type": "code",
   "execution_count": null,
   "metadata": {},
   "outputs": [],
   "source": [
    "# 适配和检查列名\n",
    "def prepare_delaney_dataframe(df):\n",
    "    df = df.copy()\n",
    "    # 常见几种列名，选择合适的目标列\n",
    "    possible_logS = ['measured log solubility in mols per litre', 'logS', 'measured log solubility in mols per litre ']\n",
    "    target_col = None\n",
    "    for c in possible_logS:\n",
    "        if c in df.columns:\n",
    "            target_col = c\n",
    "            break\n",
    "    # 有些版本把列命名为 'Solubility' 或 'measured log S'\n",
    "    if target_col is None:\n",
    "        for c in df.columns:\n",
    "            if 'log' in c.lower() and 'sol' in c.lower():\n",
    "                target_col = c\n",
    "                break\n",
    "    if target_col is None:\n",
    "        raise RuntimeError('无法识别数据集中的溶解度列，请检查 CSV 列名：\\n' + ','.join(df.columns))\n",
    "    df = df.rename(columns={target_col: 'logS'})\n",
    "    if 'smiles' not in df.columns:\n",
    "        raise RuntimeError('CSV 中未找到 smiles 列')\n",
    "    df = df[['smiles', 'logS']].dropna()\n",
    "    # 有时 logS 列是字符串，转换为 float\n",
    "    df['logS'] = df['logS'].astype(float)\n",
    "    return df\n",
    "\n",
    "df = prepare_delaney_dataframe(df)\n",
    "print('Number of molecules in ESOL (Delaney):', len(df))\n",
    "df.head()\n"
   ]
  },
  {
   "cell_type": "markdown",
   "metadata": {},
   "source": [
    "## 3. 将 SMILES 转为 Morgan/ECFP 指纹（位向量）"
   ]
  },
  {
   "cell_type": "code",
   "execution_count": null,
   "metadata": {},
   "outputs": [],
   "source": [
    "def smiles_to_ecfp_bitvec(smiles, radius=2, nBits=2048):\n",
    "    mol = Chem.MolFromSmiles(smiles)\n",
    "    if mol is None:\n",
    "        return None\n",
    "    fp = AllChem.GetMorganFingerprintAsBitVect(mol, radius, nBits=nBits)\n",
    "    arr = np.zeros((nBits,), dtype=int)\n",
    "    DataStructs.ConvertToNumpyArray(fp, arr)\n",
    "    return arr\n",
    "\n",
    "# 生成特征矩阵\n",
    "nBits = 2048\n",
    "X_list = []\n",
    "y_list = []\n",
    "valid_smiles = []\n",
    "for smi, y in zip(df['smiles'], df['logS']):\n",
    "    arr = smiles_to_ecfp_bitvec(smi, radius=2, nBits=nBits)\n",
    "    if arr is None:\n",
    "        continue\n",
    "    X_list.append(arr)\n",
    "    y_list.append(y)\n",
    "    valid_smiles.append(smi)\n",
    "\n",
    "X = np.vstack(X_list)\n",
    "y = np.array(y_list)\n",
    "print('Feature matrix shape:', X.shape)\n"
   ]
  },
  {
   "cell_type": "markdown",
   "metadata": {},
   "source": [
    "## 4. 划分数据集并训练随机森林回归模型"
   ]
  },
  {
   "cell_type": "code",
   "execution_count": null,
   "metadata": {},
   "outputs": [],
   "source": [
    "X_train, X_test, y_train, y_test, smiles_train, smiles_test = train_test_split(\n",
    "    X, y, valid_smiles, test_size=0.2, random_state=42\n",
    ")\n",
    "print('Train size:', X_train.shape[0], 'Test size:', X_test.shape[0])\n",
    "\n",
    "model = RandomForestRegressor(n_estimators=300, random_state=42, n_jobs=-1)\n",
    "model.fit(X_train, y_train)\n",
    "\n",
    "# 评估\n",
    "y_pred = model.predict(X_test)\n",
    "rmse = mean_squared_error(y_test, y_pred, squared=False)\n",
    "mae = mean_absolute_error(y_test, y_pred)\n",
    "r2 = r2_score(y_test, y_pred)\n",
    "print(f'Test RMSE = {rmse:.3f}, MAE = {mae:.3f}, R2 = {r2:.3f}')\n",
    "\n",
    "# 简单的预测可视化：真实 vs 预测\n",
    "plt.figure(figsize=(6,6))\n",
    "plt.scatter(y_test, y_pred, alpha=0.7)\n",
    "plt.plot([min(y_test), max(y_test)], [min(y_test), max(y_test)], 'r--')\n",
    "plt.xlabel('Measured logS (mol/L)')\n",
    "plt.ylabel('Predicted logS (mol/L)')\n",
    "plt.title('RandomForest (ECFP) Predictions')\n",
    "plt.grid(True)\n",
    "plt.show()\n"
   ]
  },
  {
   "cell_type": "markdown",
   "metadata": {},
   "source": [
    "## 5. 用模型预测布洛芬（Ibuprofen）的溶解度，并给出适用域指标（Tanimoto 相似度）\n",
    "\n",
    "布洛芬 SMILES（常用表示）: CC(C)CC1=CC=C(C=C1)C(C)C(=O)O"
   ]
  },
  {
   "cell_type": "code",
   "execution_count": null,
   "metadata": {},
   "outputs": [],
   "source": [
    "ibuprofen_smiles = 'CC(C)CC1=CC=C(C=C1)C(C)C(=O)O'\n",
    "ibuprofen_fp = smiles_to_ecfp_bitvec(ibuprofen_smiles, radius=2, nBits=nBits)\n",
    "pred_logS_ibuprofen = model.predict(ibuprofen_fp.reshape(1, -1))[0]\n",
    "print(f'Predicted logS (mol/L) for ibuprofen: {pred_logS_ibuprofen:.3f} (log10 mol/L)')\n",
    "\n",
    "# 适用域检测：计算与训练集中指纹的最大 Tanimoto 相似度\n",
    "def bitvec_to_rdkit_fp(bitarr):\n",
    "    # bitarr: numpy array of 0/1\n",
    "    arr = np.asarray(bitarr, dtype=np.uint8)\n",
    "    bv = DataStructs.ExplicitBitVect(len(arr))\n",
    "    for i, v in enumerate(arr):\n",
    "        if int(v):\n",
    "            bv.SetBit(i)\n",
    "    return bv\n",
    "\n",
    "train_bitvecs = [bitvec_to_rdkit_fp(x) for x in X_train]\n",
    "ib_fp_rd = bitvec_to_rdkit_fp(ibuprofen_fp)\n",
    "sims = [DataStructs.TanimotoSimilarity(ib_fp_rd, t) for t in train_bitvecs]\n",
    "max_sim = max(sims)\n",
    "mean_sim = float(np.mean(sims))\n",
    "print(f'Max Tanimoto similarity to training set: {max_sim:.3f}, mean similarity: {mean_sim:.3f}')\n",
    "\n",
    "# 将预测 logS 转换为 mol/L 与 mg/L（需要分子量）\n",
    "mol = Chem.MolFromSmiles(ibuprofen_smiles)\n",
    "mw = Descriptors.MolWt(mol)\n",
    "s_mol_per_l = 10 ** pred_logS_ibuprofen\n",
    "s_mg_per_l = s_mol_per_l * mw * 1000.0\n",
    "print(f'Predicted solubility: {s_mol_per_l:.3e} mol/L = {s_mg_per_l:.3f} mg/L (MW={mw:.3f} g/mol)')\n"
   ]
  },
  {
   "cell_type": "markdown",
   "metadata": {},
   "source": [
    "说明：如果 ibuprofen 与训练集的最大 Tanimoto 相似度较高（例如 > 0.6），则基线预测更可信；若很低，则需要谨慎对待预测值。\n",
    "\n",
    "你可以通过 ensembling（多个模型）或做不确定性估计（模型集成、bootstrap、MC-dropout）来获取置信区间。"
   ]
  },
  {
   "cell_type": "markdown",
   "metadata": {},
   "source": [
    "## 6. 保存模型以便后续快速预测\n",
    "我们把训练好的随机森林模型和训练时使用的参数（比如 nBits）一起保存。"
   ]
  },
  {
   "cell_type": "code",
   "execution_count": null,
   "metadata": {},
   "outputs": [],
   "source": [
    "model_path = 'rf_ecfp_model.joblib'\n",
    "joblib.dump({'model': model, 'nBits': nBits, 'radius': 2}, model_path)\n",
    "print('Saved model to', model_path)\n"
   ]
  },
  {
   "cell_type": "markdown",
   "metadata": {},
   "source": [
    "## 7. 总结与后续建议\n",
    "\n",
    "- 本 notebook 给出了一个可复现的 baseline：ECFP（Morgan 指纹）+ RandomForest，用于预测溶解度（logS）。\n",
    "- 若你想更进一步：\n",
    "  - 用交叉验证调参（GridSearchCV）优化随机森林参数；\n",
    "  - 尝试更强的学习型指纹（如 chemprop 的 D-MPNN、DeepChem 的 GraphConv/MPNN），尤其是当数据量较大时；\n",
    "  - 做不确定性估计与适用域评估；\n",
    "  - 若你的目标单位是 mg/L，请使用分子量做单位换算（notebook 已示范）。\n",
    "\n",
    "如果你希望，我可以：\n",
    "- 把这个 notebook 放到 GitHub 仓库并添加 Binder/Colab 运行说明；\n",
    "- 把同样流程改成 DeepChem / GraphConv 的对比 notebook；\n",
    "- 或者把模型部署成一个小的脚本/Flask API，便于对任意 SMILES 做预测。\n",
    "\n",
    "你希望我接下来做哪一步？"
   ]
  }
 ],
 "metadata": {
  "kernelspec": {
   "display_name": "Python 3",
   "language": "python",
   "name": "python3"
  },
  "language_info": {
   "name": "python",
   "version": "3.8"
  }
 },
 "nbformat": 4,
 "nbformat_minor": 5
}